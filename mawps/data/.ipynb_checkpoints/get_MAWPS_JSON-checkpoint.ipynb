{
 "cells": [
  {
   "cell_type": "code",
   "execution_count": 2,
   "metadata": {
    "ExecuteTime": {
     "end_time": "2019-12-03T12:08:50.059699Z",
     "start_time": "2019-12-03T12:08:50.051969Z"
    }
   },
   "outputs": [],
   "source": [
    "# -*- coding: utf-8 -*-\n",
    "import json\n",
    "from tqdm import tqdm\n",
    "import os\n",
    "\n",
    "def read_json(path):\n",
    "    with open(path,'r') as f:\n",
    "        file = json.load(f)\n",
    "    return file\n",
    "\n",
    "def write_json(path,file):\n",
    "    with open(path,'w') as f:\n",
    "        json.dump(file,f)"
   ]
  },
  {
   "cell_type": "code",
   "execution_count": 6,
   "metadata": {
    "ExecuteTime": {
     "end_time": "2019-12-03T12:14:13.315673Z",
     "start_time": "2019-12-03T12:14:13.311942Z"
    }
   },
   "outputs": [],
   "source": [
    "mawps_path = '/home/xiaojinhui/zjp/EMNLP_2019/mawps_data/mawps_combine.json'\n",
    "mawps_id_path = '/home/xiaojinhui/zjp/EMNLP_2019/mawps_data/mawps_combine_new.json'\n",
    "mawps_new_path = './MAWPS.json'"
   ]
  },
  {
   "cell_type": "code",
   "execution_count": 4,
   "metadata": {
    "ExecuteTime": {
     "end_time": "2019-12-03T12:09:41.059187Z",
     "start_time": "2019-12-03T12:09:41.012771Z"
    }
   },
   "outputs": [],
   "source": [
    "mawps_data = read_json(mawps_path)"
   ]
  },
  {
   "cell_type": "code",
   "execution_count": 5,
   "metadata": {
    "ExecuteTime": {
     "end_time": "2019-12-03T12:11:41.424084Z",
     "start_time": "2019-12-03T12:11:41.418930Z"
    }
   },
   "outputs": [
    {
     "name": "stdout",
     "output_type": "stream",
     "text": [
      "2373\n"
     ]
    }
   ],
   "source": [
    "print(len(mawps_data))"
   ]
  },
  {
   "cell_type": "code",
   "execution_count": 7,
   "metadata": {
    "ExecuteTime": {
     "end_time": "2019-12-03T12:14:19.709772Z",
     "start_time": "2019-12-03T12:14:19.703764Z"
    }
   },
   "outputs": [],
   "source": [
    "new_mawps = []\n",
    "c = 1\n",
    "for item in mawps_data:\n",
    "    new_item = item\n",
    "    new_item['id'] = c\n",
    "    new_mawps.append(new_item)\n",
    "    c += 1"
   ]
  },
  {
   "cell_type": "code",
   "execution_count": 9,
   "metadata": {
    "ExecuteTime": {
     "end_time": "2019-12-03T12:14:36.559269Z",
     "start_time": "2019-12-03T12:14:36.553787Z"
    }
   },
   "outputs": [
    {
     "name": "stdout",
     "output_type": "stream",
     "text": [
      "2373\n",
      "{'new_equation': 'x = 56 * 9', 'new_text': 'Bryan took a look at his books as well . If Bryan has 56 books in each of his 9 bookshelves , how many books does he have in total ?', 'norm_mid_equ': 'x = temp_0 * temp_1', 'mid_op_equ': 'x = temp_0 <OP> temp_1', 'num_pos': [13, 19], 'mask_text': 'Bryan took a look at his books as well . If Bryan has temp_0 books in each of his temp_1 bookshelves , how many books does he have in total ?', 'num_list': [56.0, 9.0], 'template_equ': 'x = temp_0 * temp_1', 'norm_op_equ': 'x = temp_0 temp_1 <OP>', 'iIndex': 3238, 'post_equ': 'x = temp_0 temp_1 *', 'lEquations': ['56*9=x'], 'sQuestion': 'Bryan took a look at his books as well. If Bryan has 56 books in each of his 9 bookshelves, how many books does he have in total?', 'lSolutions': [504.0], 'norm_post_equ': 'x = temp_0 temp_1 *', 'id': 1}\n"
     ]
    }
   ],
   "source": [
    "print(len(new_mawps))\n",
    "print(new_mawps[0])"
   ]
  },
  {
   "cell_type": "code",
   "execution_count": 15,
   "metadata": {
    "ExecuteTime": {
     "end_time": "2019-12-03T12:23:53.213590Z",
     "start_time": "2019-12-03T12:23:53.206459Z"
    }
   },
   "outputs": [],
   "source": [
    "for i in new_mawps:\n",
    "    if len(i['lSolutions']) > 1 or  len(i['lSolutions']) < 0:\n",
    "        print(i)"
   ]
  },
  {
   "cell_type": "code",
   "execution_count": 10,
   "metadata": {
    "ExecuteTime": {
     "end_time": "2019-12-03T12:15:35.930610Z",
     "start_time": "2019-12-03T12:15:35.778993Z"
    }
   },
   "outputs": [],
   "source": [
    "write_json(mawps_id_path, new_mawps)"
   ]
  },
  {
   "cell_type": "code",
   "execution_count": 11,
   "metadata": {
    "ExecuteTime": {
     "end_time": "2019-12-03T12:18:51.096044Z",
     "start_time": "2019-12-03T12:18:50.984182Z"
    }
   },
   "outputs": [],
   "source": [
    "mawps_id_data = read_json(mawps_id_path)"
   ]
  },
  {
   "cell_type": "code",
   "execution_count": 12,
   "metadata": {
    "ExecuteTime": {
     "end_time": "2019-12-03T12:22:01.860570Z",
     "start_time": "2019-12-03T12:22:01.855348Z"
    }
   },
   "outputs": [],
   "source": [
    "def concat(equation):\n",
    "    equation_list = equation.split()\n",
    "    equation_str = ''\n",
    "    for i in equation_list:\n",
    "        equation_str += i\n",
    "    return equation_str"
   ]
  },
  {
   "cell_type": "code",
   "execution_count": 13,
   "metadata": {
    "ExecuteTime": {
     "end_time": "2019-12-03T12:22:21.892784Z",
     "start_time": "2019-12-03T12:22:21.887978Z"
    }
   },
   "outputs": [
    {
     "name": "stdout",
     "output_type": "stream",
     "text": [
      "x=56*9\n"
     ]
    }
   ],
   "source": [
    "print(concat('x = 56 * 9'))"
   ]
  },
  {
   "cell_type": "code",
   "execution_count": null,
   "metadata": {},
   "outputs": [],
   "source": [
    "new_mawps = []\n",
    "for item in mawps_id_data:\n",
    "    new_item = {}\n",
    "    new_item['id'] = item['id']\n",
    "    new_item['original_text'] = item['new_text']\n",
    "    new_item['segmented_text'] = item['new_text']\n",
    "    new_item['equation'] = concat(item['equation'])\n",
    "    new_item['ans'] = item['lSolutions'][0]\n",
    "    new_mawps.append(new_item)"
   ]
  }
 ],
 "metadata": {
  "kernelspec": {
   "display_name": "Python 3",
   "language": "python",
   "name": "python3"
  },
  "language_info": {
   "codemirror_mode": {
    "name": "ipython",
    "version": 3
   },
   "file_extension": ".py",
   "mimetype": "text/x-python",
   "name": "python",
   "nbconvert_exporter": "python",
   "pygments_lexer": "ipython3",
   "version": "3.6.8"
  },
  "toc": {
   "base_numbering": 1,
   "nav_menu": {},
   "number_sections": true,
   "sideBar": true,
   "skip_h1_title": false,
   "title_cell": "Table of Contents",
   "title_sidebar": "Contents",
   "toc_cell": false,
   "toc_position": {},
   "toc_section_display": true,
   "toc_window_display": false
  }
 },
 "nbformat": 4,
 "nbformat_minor": 2
}
