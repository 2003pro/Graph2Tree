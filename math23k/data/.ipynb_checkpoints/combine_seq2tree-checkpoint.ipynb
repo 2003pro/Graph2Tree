{
 "cells": [
  {
   "cell_type": "code",
   "execution_count": 1,
   "metadata": {},
   "outputs": [],
   "source": [
    "# -*- coding: utf-8 -*-\n",
    "import json\n",
    "from tqdm import tqdm\n",
    "import os\n",
    "\n",
    "## 将parsing的到的graph整合到数据集文件train,val,test的json文件中，得到新的包含graph的文件"
   ]
  },
  {
   "cell_type": "code",
   "execution_count": 7,
   "metadata": {},
   "outputs": [],
   "source": [
    "combine_flag = False\n",
    "mode = 'train'\n",
    "\n",
    "\n",
    "group_train_path = './train23k_processed.json'\n",
    "group_valid_path = './valid23k_processed.json'\n",
    "group_test_path = './test23k_processed.json'\n",
    "group_path = [group_train_path,group_valid_path, group_test_path]\n",
    "\n",
    "whole_path = './whole_processed.json'\n",
    "ori_path = './Math_23K.json'\n",
    "save_path = './Math_23K_processed.json'\n",
    "\n",
    "def read_json(path):\n",
    "    with open(path,'r') as f:\n",
    "        file = json.load(f)\n",
    "    return file\n",
    "\n",
    "def write_json(path,file):\n",
    "    with open(path,'w') as f:\n",
    "        json.dump(file,f)\n",
    "        \n",
    "def load_raw_data(filename):  # load the json data to list(dict()) for MATH 23K\n",
    "    print(\"Reading lines...\")\n",
    "    f = open(filename, encoding=\"utf-8\")\n",
    "    js = \"\"\n",
    "    data = []\n",
    "    for i, s in enumerate(f):\n",
    "        js += s\n",
    "        i += 1\n",
    "        if i % 7 == 0:  # every 7 line is a json\n",
    "            data_d = json.loads(js)\n",
    "            if \"千米/小时\" in data_d[\"equation\"]:\n",
    "                data_d[\"equation\"] = data_d[\"equation\"][:-5]\n",
    "            data.append(data_d)\n",
    "            js = \"\"\n",
    "\n",
    "    return data\n",
    "\n",
    "whole = read_json(group_train_path) + read_json(group_valid_path) + read_json(group_test_path)\n",
    "whole_path = './whole_processed.json'\n",
    "write_json(whole_path, whole)"
   ]
  },
  {
   "cell_type": "code",
   "execution_count": 8,
   "metadata": {},
   "outputs": [
    {
     "name": "stdout",
     "output_type": "stream",
     "text": [
      "Reading lines...\n"
     ]
    }
   ],
   "source": [
    "ori_path = './Math_23K.json'\n",
    "save_path = './Math_23K_processed.json'\n",
    "whole_path = './whole_processed.json'\n",
    "\n",
    "ori = load_raw_data(ori_path)\n",
    "whole_dict = dict([(item['id'],item) for item in whole])"
   ]
  },
  {
   "cell_type": "code",
   "execution_count": 16,
   "metadata": {},
   "outputs": [
    {
     "name": "stdout",
     "output_type": "stream",
     "text": [
      "Reading lines...\n"
     ]
    },
    {
     "name": "stderr",
     "output_type": "stream",
     "text": [
      "100%|████████████████████████████████████████████████████████████████████████████████████████████████████████████████████████████████████████████████████████████████████████████████████████████| 23162/23162 [00:00<00:00, 550472.40it/s]\n"
     ]
    },
    {
     "name": "stdout",
     "output_type": "stream",
     "text": [
      "Graph has been inserted into ori_json!\n",
      "Finished\n"
     ]
    }
   ],
   "source": [
    "# -*- coding: utf-8 -*-\n",
    "import json\n",
    "from tqdm import tqdm\n",
    "import os\n",
    "\n",
    "def read_json(path):\n",
    "    with open(path,'r') as f:\n",
    "        file = json.load(f)\n",
    "    return file\n",
    "\n",
    "def write_json(path,file):\n",
    "    with open(path,'w') as f:\n",
    "        json.dump(file,f)\n",
    "        \n",
    "def load_raw_data(filename):  # load the json data to list(dict()) for MATH 23K\n",
    "    print(\"Reading lines...\")\n",
    "    f = open(filename, encoding=\"utf-8\")\n",
    "    js = \"\"\n",
    "    data = []\n",
    "    for i, s in enumerate(f):\n",
    "        js += s\n",
    "        i += 1\n",
    "        if i % 7 == 0:  # every 7 line is a json\n",
    "            data_d = json.loads(js)\n",
    "            if \"千米/小时\" in data_d[\"equation\"]:\n",
    "                data_d[\"equation\"] = data_d[\"equation\"][:-5]\n",
    "            data.append(data_d)\n",
    "            js = \"\"\n",
    "\n",
    "    return data\n",
    "\n",
    "def combine_json(graph_dict, ori_json):\n",
    "    new_data = []\n",
    "    for i in tqdm(range(len(ori_json))):\n",
    "        item = {'id':ori_json[i]['id']}\n",
    "        item['group_num'] = graph_dict[item['id']]['group_num']\n",
    "        new_data.append(item)        \n",
    "    print('Graph has been inserted into ori_json!')\n",
    "    return new_data\n",
    "\n",
    "def main(whole_path, save_path, ori_path):\n",
    "    whole = read_json(whole_path)\n",
    "    whole_dict = dict([(item['id'],item) for item in whole])\n",
    "    ori = load_raw_data(ori_path)\n",
    "    new_data = combine_json(whole_dict, ori)\n",
    "    write_json(save_path, new_data)\n",
    "    print('Finished')\n",
    "    \n",
    "whole_path = './whole_processed.json'\n",
    "ori_path = './Math_23K.json'\n",
    "save_path = './Math_23K_processed.json'\n",
    "main(whole_path, save_path, ori_path)"
   ]
  },
  {
   "cell_type": "code",
   "execution_count": 17,
   "metadata": {},
   "outputs": [
    {
     "name": "stdout",
     "output_type": "stream",
     "text": [
      "{'id': '1', 'segmented_text': '镇海 雅乐 学校 二年级 的 小朋友 到 一条 小路 的 一边 植树 ． 小朋友 们 每隔 2 米 种 一棵树 （ 马路 两头 都 种 了 树 ） ， 最后 发现 一共 种 了 11 棵 ， 这 条 小路 长 多少 米 ．', 'original_text': '镇海雅乐学校二年级的小朋友到一条小路的一边植树．小朋友们每隔2米种一棵树（马路两头都种了树），最后发现一共种了11棵，这条小路长多少米．', 'group_num': [15, 16, 17, 32, 33, 34, 39, 40, 41], 'equation': 'x=(11-1)*2', 'ans': '20'}\n"
     ]
    }
   ],
   "source": [
    "new_ori = read_json(save_path)\n",
    "print(new_ori[0])"
   ]
  },
  {
   "cell_type": "code",
   "execution_count": null,
   "metadata": {},
   "outputs": [],
   "source": []
  }
 ],
 "metadata": {
  "kernelspec": {
   "display_name": "Python 3",
   "language": "python",
   "name": "python3"
  },
  "language_info": {
   "codemirror_mode": {
    "name": "ipython",
    "version": 3
   },
   "file_extension": ".py",
   "mimetype": "text/x-python",
   "name": "python",
   "nbconvert_exporter": "python",
   "pygments_lexer": "ipython3",
   "version": "3.6.8"
  }
 },
 "nbformat": 4,
 "nbformat_minor": 2
}
